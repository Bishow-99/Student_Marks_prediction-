{
 "cells": [
  {
   "cell_type": "markdown",
   "id": "f31932e8",
   "metadata": {},
   "source": [
    "<h1 style=\"color:black;font-family:Times New Roman font-weight:bold\">Student Marks prediction</h1>"
   ]
  },
  {
   "cell_type": "code",
   "execution_count": 2,
   "id": "b7e21c1a",
   "metadata": {},
   "outputs": [],
   "source": [
    "import numpy as np\n",
    "import pandas as pd\n",
    "import matplotlib.pyplot as plt\n",
    "import seaborn as sns\n",
    "%matplotlib inline"
   ]
  },
  {
   "cell_type": "code",
   "execution_count": 3,
   "id": "c52fc9d0",
   "metadata": {},
   "outputs": [
    {
     "data": {
      "text/html": [
       "<div>\n",
       "<style scoped>\n",
       "    .dataframe tbody tr th:only-of-type {\n",
       "        vertical-align: middle;\n",
       "    }\n",
       "\n",
       "    .dataframe tbody tr th {\n",
       "        vertical-align: top;\n",
       "    }\n",
       "\n",
       "    .dataframe thead th {\n",
       "        text-align: right;\n",
       "    }\n",
       "</style>\n",
       "<table border=\"1\" class=\"dataframe\">\n",
       "  <thead>\n",
       "    <tr style=\"text-align: right;\">\n",
       "      <th></th>\n",
       "      <th>study_hours</th>\n",
       "      <th>student_marks</th>\n",
       "    </tr>\n",
       "  </thead>\n",
       "  <tbody>\n",
       "    <tr>\n",
       "      <th>0</th>\n",
       "      <td>6.83</td>\n",
       "      <td>78.50</td>\n",
       "    </tr>\n",
       "    <tr>\n",
       "      <th>1</th>\n",
       "      <td>6.56</td>\n",
       "      <td>76.74</td>\n",
       "    </tr>\n",
       "    <tr>\n",
       "      <th>2</th>\n",
       "      <td>NaN</td>\n",
       "      <td>78.68</td>\n",
       "    </tr>\n",
       "    <tr>\n",
       "      <th>3</th>\n",
       "      <td>5.67</td>\n",
       "      <td>71.82</td>\n",
       "    </tr>\n",
       "    <tr>\n",
       "      <th>4</th>\n",
       "      <td>8.67</td>\n",
       "      <td>84.19</td>\n",
       "    </tr>\n",
       "  </tbody>\n",
       "</table>\n",
       "</div>"
      ],
      "text/plain": [
       "   study_hours  student_marks\n",
       "0         6.83          78.50\n",
       "1         6.56          76.74\n",
       "2          NaN          78.68\n",
       "3         5.67          71.82\n",
       "4         8.67          84.19"
      ]
     },
     "execution_count": 3,
     "metadata": {},
     "output_type": "execute_result"
    }
   ],
   "source": [
    "df=pd.read_csv(\"students_data.csv\")\n",
    "df.head(5)"
   ]
  },
  {
   "cell_type": "code",
   "execution_count": 4,
   "id": "900103cd",
   "metadata": {},
   "outputs": [
    {
     "data": {
      "text/plain": [
       "study_hours      5\n",
       "student_marks    0\n",
       "dtype: int64"
      ]
     },
     "execution_count": 4,
     "metadata": {},
     "output_type": "execute_result"
    }
   ],
   "source": [
    "df.isnull().sum()"
   ]
  },
  {
   "cell_type": "code",
   "execution_count": 5,
   "id": "09c17014",
   "metadata": {},
   "outputs": [
    {
     "name": "stdout",
     "output_type": "stream",
     "text": [
      "<class 'pandas.core.frame.DataFrame'>\n",
      "RangeIndex: 200 entries, 0 to 199\n",
      "Data columns (total 2 columns):\n",
      " #   Column         Non-Null Count  Dtype  \n",
      "---  ------         --------------  -----  \n",
      " 0   study_hours    195 non-null    float64\n",
      " 1   student_marks  200 non-null    float64\n",
      "dtypes: float64(2)\n",
      "memory usage: 3.2 KB\n"
     ]
    }
   ],
   "source": [
    "df.info()"
   ]
  },
  {
   "cell_type": "code",
   "execution_count": 6,
   "id": "dfe6410d",
   "metadata": {},
   "outputs": [
    {
     "data": {
      "text/html": [
       "<div>\n",
       "<style scoped>\n",
       "    .dataframe tbody tr th:only-of-type {\n",
       "        vertical-align: middle;\n",
       "    }\n",
       "\n",
       "    .dataframe tbody tr th {\n",
       "        vertical-align: top;\n",
       "    }\n",
       "\n",
       "    .dataframe thead th {\n",
       "        text-align: right;\n",
       "    }\n",
       "</style>\n",
       "<table border=\"1\" class=\"dataframe\">\n",
       "  <thead>\n",
       "    <tr style=\"text-align: right;\">\n",
       "      <th></th>\n",
       "      <th>study_hours</th>\n",
       "      <th>student_marks</th>\n",
       "    </tr>\n",
       "  </thead>\n",
       "  <tbody>\n",
       "    <tr>\n",
       "      <th>count</th>\n",
       "      <td>195.000000</td>\n",
       "      <td>200.00000</td>\n",
       "    </tr>\n",
       "    <tr>\n",
       "      <th>mean</th>\n",
       "      <td>6.995949</td>\n",
       "      <td>77.93375</td>\n",
       "    </tr>\n",
       "    <tr>\n",
       "      <th>std</th>\n",
       "      <td>1.253060</td>\n",
       "      <td>4.92570</td>\n",
       "    </tr>\n",
       "    <tr>\n",
       "      <th>min</th>\n",
       "      <td>5.010000</td>\n",
       "      <td>68.57000</td>\n",
       "    </tr>\n",
       "    <tr>\n",
       "      <th>25%</th>\n",
       "      <td>5.775000</td>\n",
       "      <td>73.38500</td>\n",
       "    </tr>\n",
       "    <tr>\n",
       "      <th>50%</th>\n",
       "      <td>7.120000</td>\n",
       "      <td>77.71000</td>\n",
       "    </tr>\n",
       "    <tr>\n",
       "      <th>75%</th>\n",
       "      <td>8.085000</td>\n",
       "      <td>82.32000</td>\n",
       "    </tr>\n",
       "    <tr>\n",
       "      <th>max</th>\n",
       "      <td>8.990000</td>\n",
       "      <td>86.99000</td>\n",
       "    </tr>\n",
       "  </tbody>\n",
       "</table>\n",
       "</div>"
      ],
      "text/plain": [
       "       study_hours  student_marks\n",
       "count   195.000000      200.00000\n",
       "mean      6.995949       77.93375\n",
       "std       1.253060        4.92570\n",
       "min       5.010000       68.57000\n",
       "25%       5.775000       73.38500\n",
       "50%       7.120000       77.71000\n",
       "75%       8.085000       82.32000\n",
       "max       8.990000       86.99000"
      ]
     },
     "execution_count": 6,
     "metadata": {},
     "output_type": "execute_result"
    }
   ],
   "source": [
    "df.describe()"
   ]
  },
  {
   "cell_type": "code",
   "execution_count": 7,
   "id": "755bf75c",
   "metadata": {},
   "outputs": [
    {
     "data": {
      "image/png": "[encoded data removed]",
      "text/plain": [
       "<Figure size 432x288 with 1 Axes>"
      ]
     },
     "metadata": {
      "needs_background": "light"
     },
     "output_type": "display_data"
    }
   ],
   "source": [
    "sns.lineplot(x='study_hours',y='student_marks', data=df)\n",
    "plt.grid()"
   ]
  },
  {
   "cell_type": "code",
   "execution_count": 8,
   "id": "98294237",
   "metadata": {},
   "outputs": [
    {
     "data": {
      "text/plain": [
       "<AxesSubplot:xlabel='study_hours', ylabel='student_marks'>"
      ]
     },
     "execution_count": 8,
     "metadata": {},
     "output_type": "execute_result"
    },
    {
     "data": {
      "image/png": "[encoded data removed]",
      "text/plain": [
       "<Figure size 432x288 with 1 Axes>"
      ]
     },
     "metadata": {
      "needs_background": "light"
     },
     "output_type": "display_data"
    }
   ],
   "source": [
    "sns.boxplot(x='study_hours',y='student_marks', data=df)"
   ]
  },
  {
   "cell_type": "code",
   "execution_count": 9,
   "id": "a4bb171c",
   "metadata": {},
   "outputs": [
    {
     "data": {
      "text/plain": [
       "<AxesSubplot:>"
      ]
     },
     "execution_count": 9,
     "metadata": {},
     "output_type": "execute_result"
    },
    {
     "data": {
      "image/png": "[encoded data removed]",
      "text/plain": [
       "<Figure size 432x288 with 2 Axes>"
      ]
     },
     "metadata": {
      "needs_background": "light"
     },
     "output_type": "display_data"
    }
   ],
   "source": [
    "sns.heatmap(df.isnull(),  cmap='viridis')"
   ]
  },
  {
   "cell_type": "code",
   "execution_count": 10,
   "id": "d4d2c622",
   "metadata": {},
   "outputs": [],
   "source": [
    "df['study_hours']=df['study_hours'].fillna(df['study_hours'].mean())"
   ]
  },
  {
   "cell_type": "code",
   "execution_count": 11,
   "id": "e0a73526",
   "metadata": {},
   "outputs": [
    {
     "data": {
      "text/plain": [
       "study_hours      0\n",
       "student_marks    0\n",
       "dtype: int64"
      ]
     },
     "execution_count": 11,
     "metadata": {},
     "output_type": "execute_result"
    }
   ],
   "source": [
    "df.isnull().sum()"
   ]
  },
  {
   "cell_type": "code",
   "execution_count": 12,
   "id": "ddc2d97d",
   "metadata": {},
   "outputs": [
    {
     "data": {
      "text/html": [
       "<div>\n",
       "<style scoped>\n",
       "    .dataframe tbody tr th:only-of-type {\n",
       "        vertical-align: middle;\n",
       "    }\n",
       "\n",
       "    .dataframe tbody tr th {\n",
       "        vertical-align: top;\n",
       "    }\n",
       "\n",
       "    .dataframe thead th {\n",
       "        text-align: right;\n",
       "    }\n",
       "</style>\n",
       "<table border=\"1\" class=\"dataframe\">\n",
       "  <thead>\n",
       "    <tr style=\"text-align: right;\">\n",
       "      <th></th>\n",
       "      <th>study_hours</th>\n",
       "      <th>student_marks</th>\n",
       "    </tr>\n",
       "  </thead>\n",
       "  <tbody>\n",
       "    <tr>\n",
       "      <th>0</th>\n",
       "      <td>6.830000</td>\n",
       "      <td>78.50</td>\n",
       "    </tr>\n",
       "    <tr>\n",
       "      <th>1</th>\n",
       "      <td>6.560000</td>\n",
       "      <td>76.74</td>\n",
       "    </tr>\n",
       "    <tr>\n",
       "      <th>2</th>\n",
       "      <td>6.995949</td>\n",
       "      <td>78.68</td>\n",
       "    </tr>\n",
       "    <tr>\n",
       "      <th>3</th>\n",
       "      <td>5.670000</td>\n",
       "      <td>71.82</td>\n",
       "    </tr>\n",
       "    <tr>\n",
       "      <th>4</th>\n",
       "      <td>8.670000</td>\n",
       "      <td>84.19</td>\n",
       "    </tr>\n",
       "  </tbody>\n",
       "</table>\n",
       "</div>"
      ],
      "text/plain": [
       "   study_hours  student_marks\n",
       "0     6.830000          78.50\n",
       "1     6.560000          76.74\n",
       "2     6.995949          78.68\n",
       "3     5.670000          71.82\n",
       "4     8.670000          84.19"
      ]
     },
     "execution_count": 12,
     "metadata": {},
     "output_type": "execute_result"
    }
   ],
   "source": [
    "df.head()"
   ]
  },
  {
   "cell_type": "code",
   "execution_count": 13,
   "id": "24521d5e",
   "metadata": {},
   "outputs": [],
   "source": [
    "X=df.drop('student_marks',axis=1)\n",
    "y=df.iloc[:,-1]\n",
    "from sklearn.model_selection import train_test_split\n",
    "X_train, X_test, y_train, y_test = train_test_split( X, y, test_size=0.3, random_state=2)\n"
   ]
  },
  {
   "cell_type": "code",
   "execution_count": 14,
   "id": "6e01d5b7",
   "metadata": {},
   "outputs": [],
   "source": [
    "from sklearn.linear_model import LinearRegression\n",
    "lr=LinearRegression()"
   ]
  },
  {
   "cell_type": "code",
   "execution_count": 15,
   "id": "aba8f7fa",
   "metadata": {},
   "outputs": [
    {
     "data": {
      "text/plain": [
       "LinearRegression()"
      ]
     },
     "execution_count": 15,
     "metadata": {},
     "output_type": "execute_result"
    }
   ],
   "source": [
    "lr.fit(X_train,y_train)"
   ]
  },
  {
   "cell_type": "code",
   "execution_count": 16,
   "id": "c30f5e3c",
   "metadata": {},
   "outputs": [
    {
     "data": {
      "text/plain": [
       "array([3.88070839])"
      ]
     },
     "execution_count": 16,
     "metadata": {},
     "output_type": "execute_result"
    }
   ],
   "source": [
    "lr.coef_"
   ]
  },
  {
   "cell_type": "code",
   "execution_count": 17,
   "id": "fafdd6a7",
   "metadata": {},
   "outputs": [
    {
     "data": {
      "text/plain": [
       "50.76447075455565"
      ]
     },
     "execution_count": 17,
     "metadata": {},
     "output_type": "execute_result"
    }
   ],
   "source": [
    "lr.intercept_"
   ]
  },
  {
   "cell_type": "code",
   "execution_count": 18,
   "id": "3667108a",
   "metadata": {},
   "outputs": [
    {
     "data": {
      "text/plain": [
       "60"
      ]
     },
     "execution_count": 18,
     "metadata": {},
     "output_type": "execute_result"
    }
   ],
   "source": [
    "y_pred=lr.predict(X_test)\n",
    "np.count_nonzero(y_pred)\n"
   ]
  },
  {
   "cell_type": "code",
   "execution_count": 19,
   "id": "de659bac",
   "metadata": {},
   "outputs": [],
   "source": [
    "from sklearn.metrics import mean_squared_error,r2_score"
   ]
  },
  {
   "cell_type": "code",
   "execution_count": 20,
   "id": "d028bcef",
   "metadata": {},
   "outputs": [
    {
     "data": {
      "text/plain": [
       "1.0235558605770672"
      ]
     },
     "execution_count": 20,
     "metadata": {},
     "output_type": "execute_result"
    }
   ],
   "source": [
    "mse=mean_squared_error(y_test,y_pred)\n",
    "rmse=np.sqrt(mse)\n",
    "rmse"
   ]
  },
  {
   "cell_type": "code",
   "execution_count": 21,
   "id": "043b42f5",
   "metadata": {},
   "outputs": [
    {
     "data": {
      "text/plain": [
       "0.9597777276842148"
      ]
     },
     "execution_count": 21,
     "metadata": {},
     "output_type": "execute_result"
    }
   ],
   "source": [
    "r_squared=r2_score(y_test,y_pred)\n",
    "r_squared"
   ]
  },
  {
   "cell_type": "code",
   "execution_count": 22,
   "id": "f3521f5d",
   "metadata": {},
   "outputs": [
    {
     "data": {
      "text/html": [
       "<div>\n",
       "<style scoped>\n",
       "    .dataframe tbody tr th:only-of-type {\n",
       "        vertical-align: middle;\n",
       "    }\n",
       "\n",
       "    .dataframe tbody tr th {\n",
       "        vertical-align: top;\n",
       "    }\n",
       "\n",
       "    .dataframe thead th {\n",
       "        text-align: right;\n",
       "    }\n",
       "</style>\n",
       "<table border=\"1\" class=\"dataframe\">\n",
       "  <thead>\n",
       "    <tr style=\"text-align: right;\">\n",
       "      <th></th>\n",
       "      <th>study_hrs</th>\n",
       "      <th>stud_original_marks</th>\n",
       "      <th>stud_predicted_marks</th>\n",
       "    </tr>\n",
       "  </thead>\n",
       "  <tbody>\n",
       "    <tr>\n",
       "      <th>0</th>\n",
       "      <td>6.920000</td>\n",
       "      <td>76.38</td>\n",
       "      <td>77.618973</td>\n",
       "    </tr>\n",
       "    <tr>\n",
       "      <th>1</th>\n",
       "      <td>7.480000</td>\n",
       "      <td>80.17</td>\n",
       "      <td>79.792170</td>\n",
       "    </tr>\n",
       "    <tr>\n",
       "      <th>2</th>\n",
       "      <td>8.660000</td>\n",
       "      <td>86.99</td>\n",
       "      <td>84.371405</td>\n",
       "    </tr>\n",
       "    <tr>\n",
       "      <th>3</th>\n",
       "      <td>8.350000</td>\n",
       "      <td>83.50</td>\n",
       "      <td>83.168386</td>\n",
       "    </tr>\n",
       "    <tr>\n",
       "      <th>4</th>\n",
       "      <td>7.550000</td>\n",
       "      <td>79.64</td>\n",
       "      <td>80.063819</td>\n",
       "    </tr>\n",
       "    <tr>\n",
       "      <th>5</th>\n",
       "      <td>5.630000</td>\n",
       "      <td>72.87</td>\n",
       "      <td>72.612859</td>\n",
       "    </tr>\n",
       "    <tr>\n",
       "      <th>6</th>\n",
       "      <td>6.590000</td>\n",
       "      <td>75.37</td>\n",
       "      <td>76.338339</td>\n",
       "    </tr>\n",
       "    <tr>\n",
       "      <th>7</th>\n",
       "      <td>8.760000</td>\n",
       "      <td>82.21</td>\n",
       "      <td>84.759476</td>\n",
       "    </tr>\n",
       "    <tr>\n",
       "      <th>8</th>\n",
       "      <td>5.790000</td>\n",
       "      <td>74.44</td>\n",
       "      <td>73.233772</td>\n",
       "    </tr>\n",
       "    <tr>\n",
       "      <th>9</th>\n",
       "      <td>7.100000</td>\n",
       "      <td>76.76</td>\n",
       "      <td>78.317500</td>\n",
       "    </tr>\n",
       "    <tr>\n",
       "      <th>10</th>\n",
       "      <td>7.750000</td>\n",
       "      <td>79.50</td>\n",
       "      <td>80.839961</td>\n",
       "    </tr>\n",
       "    <tr>\n",
       "      <th>11</th>\n",
       "      <td>5.440000</td>\n",
       "      <td>72.08</td>\n",
       "      <td>71.875524</td>\n",
       "    </tr>\n",
       "    <tr>\n",
       "      <th>12</th>\n",
       "      <td>7.900000</td>\n",
       "      <td>80.76</td>\n",
       "      <td>81.422067</td>\n",
       "    </tr>\n",
       "    <tr>\n",
       "      <th>13</th>\n",
       "      <td>6.460000</td>\n",
       "      <td>76.02</td>\n",
       "      <td>75.833847</td>\n",
       "    </tr>\n",
       "    <tr>\n",
       "      <th>14</th>\n",
       "      <td>5.390000</td>\n",
       "      <td>73.02</td>\n",
       "      <td>71.681489</td>\n",
       "    </tr>\n",
       "    <tr>\n",
       "      <th>15</th>\n",
       "      <td>6.995949</td>\n",
       "      <td>78.68</td>\n",
       "      <td>77.913708</td>\n",
       "    </tr>\n",
       "    <tr>\n",
       "      <th>16</th>\n",
       "      <td>8.090000</td>\n",
       "      <td>82.38</td>\n",
       "      <td>82.159402</td>\n",
       "    </tr>\n",
       "    <tr>\n",
       "      <th>17</th>\n",
       "      <td>5.670000</td>\n",
       "      <td>71.82</td>\n",
       "      <td>72.768087</td>\n",
       "    </tr>\n",
       "    <tr>\n",
       "      <th>18</th>\n",
       "      <td>7.950000</td>\n",
       "      <td>80.86</td>\n",
       "      <td>81.616102</td>\n",
       "    </tr>\n",
       "    <tr>\n",
       "      <th>19</th>\n",
       "      <td>8.190000</td>\n",
       "      <td>83.08</td>\n",
       "      <td>82.547472</td>\n",
       "    </tr>\n",
       "    <tr>\n",
       "      <th>20</th>\n",
       "      <td>5.850000</td>\n",
       "      <td>75.02</td>\n",
       "      <td>73.466615</td>\n",
       "    </tr>\n",
       "    <tr>\n",
       "      <th>21</th>\n",
       "      <td>7.960000</td>\n",
       "      <td>83.33</td>\n",
       "      <td>81.654910</td>\n",
       "    </tr>\n",
       "    <tr>\n",
       "      <th>22</th>\n",
       "      <td>6.670000</td>\n",
       "      <td>76.99</td>\n",
       "      <td>76.648796</td>\n",
       "    </tr>\n",
       "    <tr>\n",
       "      <th>23</th>\n",
       "      <td>6.510000</td>\n",
       "      <td>78.39</td>\n",
       "      <td>76.027882</td>\n",
       "    </tr>\n",
       "    <tr>\n",
       "      <th>24</th>\n",
       "      <td>5.380000</td>\n",
       "      <td>71.94</td>\n",
       "      <td>71.642682</td>\n",
       "    </tr>\n",
       "    <tr>\n",
       "      <th>25</th>\n",
       "      <td>5.220000</td>\n",
       "      <td>70.40</td>\n",
       "      <td>71.021769</td>\n",
       "    </tr>\n",
       "    <tr>\n",
       "      <th>26</th>\n",
       "      <td>6.180000</td>\n",
       "      <td>72.96</td>\n",
       "      <td>74.747249</td>\n",
       "    </tr>\n",
       "    <tr>\n",
       "      <th>27</th>\n",
       "      <td>5.450000</td>\n",
       "      <td>70.06</td>\n",
       "      <td>71.914331</td>\n",
       "    </tr>\n",
       "    <tr>\n",
       "      <th>28</th>\n",
       "      <td>5.540000</td>\n",
       "      <td>72.38</td>\n",
       "      <td>72.263595</td>\n",
       "    </tr>\n",
       "    <tr>\n",
       "      <th>29</th>\n",
       "      <td>6.995949</td>\n",
       "      <td>76.83</td>\n",
       "      <td>77.913708</td>\n",
       "    </tr>\n",
       "    <tr>\n",
       "      <th>30</th>\n",
       "      <td>8.420000</td>\n",
       "      <td>84.24</td>\n",
       "      <td>83.440035</td>\n",
       "    </tr>\n",
       "    <tr>\n",
       "      <th>31</th>\n",
       "      <td>8.880000</td>\n",
       "      <td>85.78</td>\n",
       "      <td>85.225161</td>\n",
       "    </tr>\n",
       "    <tr>\n",
       "      <th>32</th>\n",
       "      <td>6.750000</td>\n",
       "      <td>77.82</td>\n",
       "      <td>76.959252</td>\n",
       "    </tr>\n",
       "    <tr>\n",
       "      <th>33</th>\n",
       "      <td>8.930000</td>\n",
       "      <td>86.65</td>\n",
       "      <td>85.419197</td>\n",
       "    </tr>\n",
       "    <tr>\n",
       "      <th>34</th>\n",
       "      <td>5.090000</td>\n",
       "      <td>70.05</td>\n",
       "      <td>70.517276</td>\n",
       "    </tr>\n",
       "    <tr>\n",
       "      <th>35</th>\n",
       "      <td>5.110000</td>\n",
       "      <td>71.79</td>\n",
       "      <td>70.594891</td>\n",
       "    </tr>\n",
       "    <tr>\n",
       "      <th>36</th>\n",
       "      <td>6.380000</td>\n",
       "      <td>77.01</td>\n",
       "      <td>75.523390</td>\n",
       "    </tr>\n",
       "    <tr>\n",
       "      <th>37</th>\n",
       "      <td>8.930000</td>\n",
       "      <td>85.96</td>\n",
       "      <td>85.419197</td>\n",
       "    </tr>\n",
       "    <tr>\n",
       "      <th>38</th>\n",
       "      <td>5.260000</td>\n",
       "      <td>71.86</td>\n",
       "      <td>71.176997</td>\n",
       "    </tr>\n",
       "    <tr>\n",
       "      <th>39</th>\n",
       "      <td>5.520000</td>\n",
       "      <td>71.45</td>\n",
       "      <td>72.185981</td>\n",
       "    </tr>\n",
       "    <tr>\n",
       "      <th>40</th>\n",
       "      <td>5.140000</td>\n",
       "      <td>71.22</td>\n",
       "      <td>70.711312</td>\n",
       "    </tr>\n",
       "    <tr>\n",
       "      <th>41</th>\n",
       "      <td>6.750000</td>\n",
       "      <td>77.07</td>\n",
       "      <td>76.959252</td>\n",
       "    </tr>\n",
       "    <tr>\n",
       "      <th>42</th>\n",
       "      <td>6.370000</td>\n",
       "      <td>75.04</td>\n",
       "      <td>75.484583</td>\n",
       "    </tr>\n",
       "    <tr>\n",
       "      <th>43</th>\n",
       "      <td>7.620000</td>\n",
       "      <td>79.53</td>\n",
       "      <td>80.335469</td>\n",
       "    </tr>\n",
       "    <tr>\n",
       "      <th>44</th>\n",
       "      <td>5.020000</td>\n",
       "      <td>70.58</td>\n",
       "      <td>70.245627</td>\n",
       "    </tr>\n",
       "    <tr>\n",
       "      <th>45</th>\n",
       "      <td>7.430000</td>\n",
       "      <td>80.31</td>\n",
       "      <td>79.598134</td>\n",
       "    </tr>\n",
       "    <tr>\n",
       "      <th>46</th>\n",
       "      <td>8.920000</td>\n",
       "      <td>86.41</td>\n",
       "      <td>85.380390</td>\n",
       "    </tr>\n",
       "    <tr>\n",
       "      <th>47</th>\n",
       "      <td>5.640000</td>\n",
       "      <td>73.19</td>\n",
       "      <td>72.651666</td>\n",
       "    </tr>\n",
       "    <tr>\n",
       "      <th>48</th>\n",
       "      <td>8.600000</td>\n",
       "      <td>84.58</td>\n",
       "      <td>84.138563</td>\n",
       "    </tr>\n",
       "    <tr>\n",
       "      <th>49</th>\n",
       "      <td>7.550000</td>\n",
       "      <td>81.18</td>\n",
       "      <td>80.063819</td>\n",
       "    </tr>\n",
       "    <tr>\n",
       "      <th>50</th>\n",
       "      <td>7.860000</td>\n",
       "      <td>80.72</td>\n",
       "      <td>81.266839</td>\n",
       "    </tr>\n",
       "    <tr>\n",
       "      <th>51</th>\n",
       "      <td>6.240000</td>\n",
       "      <td>75.18</td>\n",
       "      <td>74.980091</td>\n",
       "    </tr>\n",
       "    <tr>\n",
       "      <th>52</th>\n",
       "      <td>8.560000</td>\n",
       "      <td>83.88</td>\n",
       "      <td>83.983335</td>\n",
       "    </tr>\n",
       "    <tr>\n",
       "      <th>53</th>\n",
       "      <td>5.540000</td>\n",
       "      <td>72.01</td>\n",
       "      <td>72.263595</td>\n",
       "    </tr>\n",
       "    <tr>\n",
       "      <th>54</th>\n",
       "      <td>5.450000</td>\n",
       "      <td>70.96</td>\n",
       "      <td>71.914331</td>\n",
       "    </tr>\n",
       "    <tr>\n",
       "      <th>55</th>\n",
       "      <td>8.790000</td>\n",
       "      <td>84.60</td>\n",
       "      <td>84.875898</td>\n",
       "    </tr>\n",
       "    <tr>\n",
       "      <th>56</th>\n",
       "      <td>7.860000</td>\n",
       "      <td>81.25</td>\n",
       "      <td>81.266839</td>\n",
       "    </tr>\n",
       "    <tr>\n",
       "      <th>57</th>\n",
       "      <td>5.190000</td>\n",
       "      <td>70.66</td>\n",
       "      <td>70.905347</td>\n",
       "    </tr>\n",
       "    <tr>\n",
       "      <th>58</th>\n",
       "      <td>7.350000</td>\n",
       "      <td>77.78</td>\n",
       "      <td>79.287677</td>\n",
       "    </tr>\n",
       "    <tr>\n",
       "      <th>59</th>\n",
       "      <td>5.390000</td>\n",
       "      <td>71.11</td>\n",
       "      <td>71.681489</td>\n",
       "    </tr>\n",
       "  </tbody>\n",
       "</table>\n",
       "</div>"
      ],
      "text/plain": [
       "    study_hrs  stud_original_marks  stud_predicted_marks\n",
       "0    6.920000                76.38             77.618973\n",
       "1    7.480000                80.17             79.792170\n",
       "2    8.660000                86.99             84.371405\n",
       "3    8.350000                83.50             83.168386\n",
       "4    7.550000                79.64             80.063819\n",
       "5    5.630000                72.87             72.612859\n",
       "6    6.590000                75.37             76.338339\n",
       "7    8.760000                82.21             84.759476\n",
       "8    5.790000                74.44             73.233772\n",
       "9    7.100000                76.76             78.317500\n",
       "10   7.750000                79.50             80.839961\n",
       "11   5.440000                72.08             71.875524\n",
       "12   7.900000                80.76             81.422067\n",
       "13   6.460000                76.02             75.833847\n",
       "14   5.390000                73.02             71.681489\n",
       "15   6.995949                78.68             77.913708\n",
       "16   8.090000                82.38             82.159402\n",
       "17   5.670000                71.82             72.768087\n",
       "18   7.950000                80.86             81.616102\n",
       "19   8.190000                83.08             82.547472\n",
       "20   5.850000                75.02             73.466615\n",
       "21   7.960000                83.33             81.654910\n",
       "22   6.670000                76.99             76.648796\n",
       "23   6.510000                78.39             76.027882\n",
       "24   5.380000                71.94             71.642682\n",
       "25   5.220000                70.40             71.021769\n",
       "26   6.180000                72.96             74.747249\n",
       "27   5.450000                70.06             71.914331\n",
       "28   5.540000                72.38             72.263595\n",
       "29   6.995949                76.83             77.913708\n",
       "30   8.420000                84.24             83.440035\n",
       "31   8.880000                85.78             85.225161\n",
       "32   6.750000                77.82             76.959252\n",
       "33   8.930000                86.65             85.419197\n",
       "34   5.090000                70.05             70.517276\n",
       "35   5.110000                71.79             70.594891\n",
       "36   6.380000                77.01             75.523390\n",
       "37   8.930000                85.96             85.419197\n",
       "38   5.260000                71.86             71.176997\n",
       "39   5.520000                71.45             72.185981\n",
       "40   5.140000                71.22             70.711312\n",
       "41   6.750000                77.07             76.959252\n",
       "42   6.370000                75.04             75.484583\n",
       "43   7.620000                79.53             80.335469\n",
       "44   5.020000                70.58             70.245627\n",
       "45   7.430000                80.31             79.598134\n",
       "46   8.920000                86.41             85.380390\n",
       "47   5.640000                73.19             72.651666\n",
       "48   8.600000                84.58             84.138563\n",
       "49   7.550000                81.18             80.063819\n",
       "50   7.860000                80.72             81.266839\n",
       "51   6.240000                75.18             74.980091\n",
       "52   8.560000                83.88             83.983335\n",
       "53   5.540000                72.01             72.263595\n",
       "54   5.450000                70.96             71.914331\n",
       "55   8.790000                84.60             84.875898\n",
       "56   7.860000                81.25             81.266839\n",
       "57   5.190000                70.66             70.905347\n",
       "58   7.350000                77.78             79.287677\n",
       "59   5.390000                71.11             71.681489"
      ]
     },
     "execution_count": 22,
     "metadata": {},
     "output_type": "execute_result"
    }
   ],
   "source": [
    "pd.DataFrame(np.c_[X_test,y_test,y_pred],columns=['study_hrs','stud_original_marks','stud_predicted_marks'])"
   ]
  },
  {
   "cell_type": "code",
   "execution_count": 23,
   "id": "8add7230",
   "metadata": {},
   "outputs": [
    {
     "name": "stdout",
     "output_type": "stream",
     "text": [
      "[73.81587859 73.11735108 80.60711828 71.95313857 83.16838582 76.60998864\n",
      " 71.02176855 71.48745356 73.42780776 76.02788238 77.81300824 81.0339962\n",
      " 81.7713308  73.58303609 76.2219178  76.37714613 84.56544084 85.57442502\n",
      " 80.64592536 77.91370764 73.73826443 81.2668387  78.66676408 78.93841367\n",
      " 75.40696903 77.26970906 76.88163822 74.74724861 85.22516126 72.8457015\n",
      " 79.55932701 79.98620494 83.32361415 81.07280328 76.2219178  82.31462997\n",
      " 77.6577799  83.51764957 72.69047316 72.30240232 78.3951145  78.47272866\n",
      " 84.13856291 71.02176855 81.42206704 77.03686656 82.43105122 84.48782667\n",
      " 75.44577612 82.12059455 82.58627956 82.08178747 76.06668946 85.45800377\n",
      " 79.13244909 73.23377234 79.09364201 82.2370158  83.98333458 82.0041733\n",
      " 79.94739785 77.46374448 83.40122832 70.94415439 81.61610246 84.72066917\n",
      " 81.30564579 83.09077165 78.93841367 81.57729538 70.43966229 75.32935487\n",
      " 73.078544   80.52950411 73.58303609 71.60387481 72.06955982 84.60424792\n",
      " 71.25461106 84.56544084 70.59489063 71.09938272 76.02788238 71.72029606\n",
      " 79.98620494 77.91370764 74.08752818 81.73252371 75.83384696 79.52051993\n",
      " 85.03112584 71.68148898 85.49681085 70.71131188 76.37714613 82.43105122\n",
      " 81.34445287 70.51727646 85.18635418 77.26970906 70.51727646 84.56544084\n",
      " 83.12957873 82.0041733  83.01315748 78.93841367 77.96823657 71.44864648\n",
      " 82.78031498 82.81912206 84.17737    71.68148898 84.83709042 72.57405191\n",
      " 79.13244909 79.13244909 72.96212275 70.9053473  84.4102125  82.81912206\n",
      " 70.43966229 78.66676408 71.72029606 84.48782667 82.9743504  77.91370764\n",
      " 80.72353953 70.20681979 75.40696903 74.39798485 73.23377234 80.99518912\n",
      " 85.65203919 78.82199242 74.20394943 82.9743504  70.36204813 75.40696903\n",
      " 76.18311071 81.61610246]\n"
     ]
    }
   ],
   "source": [
    "print(lr.predict(X_train))"
   ]
  },
  {
   "cell_type": "code",
   "execution_count": 24,
   "id": "4ff664b5",
   "metadata": {},
   "outputs": [
    {
     "data": {
      "text/plain": [
       "[<matplotlib.lines.Line2D at 0x1de3d2654f0>]"
      ]
     },
     "execution_count": 24,
     "metadata": {},
     "output_type": "execute_result"
    },
    {
     "data": {
      "image/png": "[encoded data removed]",
      "text/plain": [
       "<Figure size 432x288 with 1 Axes>"
      ]
     },
     "metadata": {
      "needs_background": "light"
     },
     "output_type": "display_data"
    }
   ],
   "source": [
    "plt.scatter(X_test,y_test)\n",
    "plt.plot(X_train.values,lr.predict(X_train),color='r')\n"
   ]
  },
  {
   "cell_type": "code",
   "execution_count": 27,
   "id": "961632d7",
   "metadata": {},
   "outputs": [
    {
     "data": {
      "text/plain": [
       "['Student_mark.pkl']"
      ]
     },
     "execution_count": 27,
     "metadata": {},
     "output_type": "execute_result"
    }
   ],
   "source": [
    "import joblib\n",
    "joblib.dump(lr,\"Student_mark.pkl\")"
   ]
  },
  {
   "cell_type": "code",
   "execution_count": 28,
   "id": "baf4c57f",
   "metadata": {},
   "outputs": [],
   "source": [
    "model=joblib.load(\"Student_mark.pkl\")"
   ]
  },
  {
   "cell_type": "code",
   "execution_count": 33,
   "id": "915c858e",
   "metadata": {},
   "outputs": [
    {
     "name": "stderr",
     "output_type": "stream",
     "text": [
      "c:\\users\\user\\appdata\\local\\programs\\python\\python39\\lib\\site-packages\\sklearn\\base.py:450: UserWarning: X does not have valid feature names, but LinearRegression was fitted with feature names\n",
      "  warnings.warn(\n"
     ]
    },
    {
     "data": {
      "text/plain": [
       "70.17"
      ]
     },
     "execution_count": 33,
     "metadata": {},
     "output_type": "execute_result"
    }
   ],
   "source": [
    "model.predict([[5]])[[0][0]].round(2)"
   ]
  },
  {
   "cell_type": "code",
   "execution_count": null,
   "id": "c683683e",
   "metadata": {},
   "outputs": [],
   "source": []
  }
 ],
 "metadata": {
  "kernelspec": {
   "display_name": "Python 3 (ipykernel)",
   "language": "python",
   "name": "python3"
  },
  "language_info": {
   "codemirror_mode": {
    "name": "ipython",
    "version": 3
   },
   "file_extension": ".py",
   "mimetype": "text/x-python",
   "name": "python",
   "nbconvert_exporter": "python",
   "pygments_lexer": "ipython3",
   "version": "3.9.6"
  }
 },
 "nbformat": 4,
 "nbformat_minor": 5
}
